{
 "cells": [
  {
   "cell_type": "markdown",
   "metadata": {},
   "source": [
    "**Задача**\n",
    "\n",
    "Требуется, на основании имеющихся данных о клиентах банка, построить модель, используя обучающий датасет, для прогнозирования невыполнения долговых обязательств по текущему кредиту. Выполнить прогноз для примеров из тестового датасета.  \n",
    "\n",
    "**Наименование файлов с данными**\n",
    "\n",
    "course_project_train.csv - обучающий датасет<br>\n",
    "course_project_test.csv - тестовый датасет\n",
    "\n",
    "**Целевая переменная**\n",
    "\n",
    "Credit Default - факт невыполнения кредитных обязательств\n",
    "\n",
    "**Метрика качества**\n",
    "\n",
    "F1-score (sklearn.metrics.f1_score)\n",
    "\n",
    "**Требования к решению**\n",
    "\n",
    "*Целевая метрика*\n",
    "* F1 > 0.5\n",
    "* Метрика оценивается по качеству прогноза для главного класса (1 - просрочка по кредиту)  \n",
    "* F1 > 0.5, precision > 0.5, recall > 0.5 на X_test \n",
    "\n",
    "*Решение должно содержать*\n",
    "1. Тетрадка Jupyter Notebook с кодом Вашего решения, названная по образцу {ФИО}  \n",
    "2. Файл CSV с прогнозами целевой переменной для тестового датасета, названный по образцу {ФИО}"
   ]
  },
  {
   "cell_type": "code",
   "execution_count": 1,
   "metadata": {},
   "outputs": [
    {
     "name": "stderr",
     "output_type": "stream",
     "text": [
      "/Users/Kristina/opt/anaconda3/lib/python3.7/site-packages/lightgbm/__init__.py:48: UserWarning: Starting from version 2.2.1, the library file in distribution wheels for macOS is built by the Apple Clang (Xcode_8.3.3) compiler.\n",
      "This means that in case of installing LightGBM from PyPI via the ``pip install lightgbm`` command, you don't need to install the gcc compiler anymore.\n",
      "Instead of that, you need to install the OpenMP library, which is required for running LightGBM on the system with the Apple Clang compiler.\n",
      "You can install the OpenMP library by the following command: ``brew install libomp``.\n",
      "  \"You can install the OpenMP library by the following command: ``brew install libomp``.\", UserWarning)\n"
     ]
    }
   ],
   "source": [
    "import numpy as np\n",
    "import pandas as pd\n",
    "import random\n",
    "import pickle\n",
    "\n",
    "from sklearn.preprocessing import StandardScaler, MinMaxScaler\n",
    "from sklearn.model_selection import train_test_split, ShuffleSplit, cross_val_score, learning_curve\n",
    "from sklearn.model_selection import KFold, GridSearchCV, RandomizedSearchCV\n",
    "from sklearn.metrics import classification_report, f1_score, precision_score, recall_score\n",
    "\n",
    "from sklearn.linear_model import LogisticRegression\n",
    "from sklearn.neighbors import KNeighborsClassifier\n",
    "import xgboost as xgb, lightgbm as lgbm, catboost as catb\n",
    "\n",
    "import matplotlib\n",
    "import matplotlib.image as img\n",
    "import matplotlib.pyplot as plt\n",
    "import seaborn as sns\n",
    "%matplotlib inline"
   ]
  },
  {
   "cell_type": "markdown",
   "metadata": {},
   "source": [
    "### Подключение библиотек и скриптов"
   ]
  },
  {
   "cell_type": "code",
   "execution_count": 2,
   "metadata": {},
   "outputs": [],
   "source": [
    "import warnings\n",
    "warnings.filterwarnings('ignore')\n",
    "warnings.simplefilter('ignore')\n",
    "pd.set_option('display.float_format', lambda x: '%.2f' % x)\n",
    "pd.set_option('display.max_rows', 50)"
   ]
  },
  {
   "cell_type": "code",
   "execution_count": 3,
   "metadata": {},
   "outputs": [],
   "source": [
    "%config InlineBackend.figure_format = 'png'"
   ]
  },
  {
   "cell_type": "markdown",
   "metadata": {},
   "source": [
    "**Пути к директориям и файлам**"
   ]
  },
  {
   "cell_type": "code",
   "execution_count": 4,
   "metadata": {},
   "outputs": [],
   "source": [
    "# input\n",
    "TRAIN_DATASET_PATH =  'course_project_train.csv'\n",
    "TEST_DATASET_PATH = 'course_project_test.csv'"
   ]
  },
  {
   "cell_type": "markdown",
   "metadata": {},
   "source": [
    "### Загрузка данных"
   ]
  },
  {
   "cell_type": "markdown",
   "metadata": {},
   "source": [
    "**Описание датасета**\n",
    "\n",
    "* **Home Ownership** - домовладение\n",
    "* **Annual Income** - годовой доход\n",
    "* **Years in current job** - количество лет на текущем месте работы\n",
    "* **Tax Liens** - налоговые обременения\n",
    "* **Number of Open Accounts** - количество открытых счетов\n",
    "* **Years of Credit History** - количество лет кредитной истории\n",
    "* **Maximum Open Credit** - наибольший открытый кредит\n",
    "* **Number of Credit Problems** - количество проблем с кредитом\n",
    "* **Months since last delinquent** - количество месяцев с последней просрочки платежа\n",
    "* **Bankruptcies** - банкротства\n",
    "* **Purpose** - цель кредита\n",
    "* **Term** - срок кредита (0 - краткосрочный , 1 - долгосрочный)\n",
    "* **Current Loan Amount** - текущая сумма кредита\n",
    "* **Current Credit Balance** - текущий кредитный баланс\n",
    "* **Monthly Debt** - ежемесячный долг\n",
    "* **Credit Score** - кредитный рейтинг\n",
    "* **Credit Default** - факт невыполнения кредитных обязательств (0 - погашен вовремя, 1 - просрочка)"
   ]
  },
  {
   "cell_type": "code",
   "execution_count": 5,
   "metadata": {},
   "outputs": [
    {
     "data": {
      "text/html": [
       "<div>\n",
       "<style scoped>\n",
       "    .dataframe tbody tr th:only-of-type {\n",
       "        vertical-align: middle;\n",
       "    }\n",
       "\n",
       "    .dataframe tbody tr th {\n",
       "        vertical-align: top;\n",
       "    }\n",
       "\n",
       "    .dataframe thead th {\n",
       "        text-align: right;\n",
       "    }\n",
       "</style>\n",
       "<table border=\"1\" class=\"dataframe\">\n",
       "  <thead>\n",
       "    <tr style=\"text-align: right;\">\n",
       "      <th></th>\n",
       "      <th>Home Ownership</th>\n",
       "      <th>Annual Income</th>\n",
       "      <th>Years in current job</th>\n",
       "      <th>Tax Liens</th>\n",
       "      <th>Number of Open Accounts</th>\n",
       "      <th>Years of Credit History</th>\n",
       "      <th>Maximum Open Credit</th>\n",
       "      <th>Number of Credit Problems</th>\n",
       "      <th>Months since last delinquent</th>\n",
       "      <th>Bankruptcies</th>\n",
       "      <th>Purpose</th>\n",
       "      <th>Term</th>\n",
       "      <th>Current Loan Amount</th>\n",
       "      <th>Current Credit Balance</th>\n",
       "      <th>Monthly Debt</th>\n",
       "      <th>Credit Score</th>\n",
       "      <th>Credit Default</th>\n",
       "    </tr>\n",
       "  </thead>\n",
       "  <tbody>\n",
       "    <tr>\n",
       "      <th>0</th>\n",
       "      <td>Own Home</td>\n",
       "      <td>482087.00</td>\n",
       "      <td>NaN</td>\n",
       "      <td>0.00</td>\n",
       "      <td>11.00</td>\n",
       "      <td>26.30</td>\n",
       "      <td>685960.00</td>\n",
       "      <td>1.00</td>\n",
       "      <td>nan</td>\n",
       "      <td>1.00</td>\n",
       "      <td>debt consolidation</td>\n",
       "      <td>Short Term</td>\n",
       "      <td>99999999.00</td>\n",
       "      <td>47386.00</td>\n",
       "      <td>7914.00</td>\n",
       "      <td>749.00</td>\n",
       "      <td>0</td>\n",
       "    </tr>\n",
       "    <tr>\n",
       "      <th>1</th>\n",
       "      <td>Own Home</td>\n",
       "      <td>1025487.00</td>\n",
       "      <td>10+ years</td>\n",
       "      <td>0.00</td>\n",
       "      <td>15.00</td>\n",
       "      <td>15.30</td>\n",
       "      <td>1181730.00</td>\n",
       "      <td>0.00</td>\n",
       "      <td>nan</td>\n",
       "      <td>0.00</td>\n",
       "      <td>debt consolidation</td>\n",
       "      <td>Long Term</td>\n",
       "      <td>264968.00</td>\n",
       "      <td>394972.00</td>\n",
       "      <td>18373.00</td>\n",
       "      <td>737.00</td>\n",
       "      <td>1</td>\n",
       "    </tr>\n",
       "    <tr>\n",
       "      <th>2</th>\n",
       "      <td>Home Mortgage</td>\n",
       "      <td>751412.00</td>\n",
       "      <td>8 years</td>\n",
       "      <td>0.00</td>\n",
       "      <td>11.00</td>\n",
       "      <td>35.00</td>\n",
       "      <td>1182434.00</td>\n",
       "      <td>0.00</td>\n",
       "      <td>nan</td>\n",
       "      <td>0.00</td>\n",
       "      <td>debt consolidation</td>\n",
       "      <td>Short Term</td>\n",
       "      <td>99999999.00</td>\n",
       "      <td>308389.00</td>\n",
       "      <td>13651.00</td>\n",
       "      <td>742.00</td>\n",
       "      <td>0</td>\n",
       "    </tr>\n",
       "    <tr>\n",
       "      <th>3</th>\n",
       "      <td>Own Home</td>\n",
       "      <td>805068.00</td>\n",
       "      <td>6 years</td>\n",
       "      <td>0.00</td>\n",
       "      <td>8.00</td>\n",
       "      <td>22.50</td>\n",
       "      <td>147400.00</td>\n",
       "      <td>1.00</td>\n",
       "      <td>nan</td>\n",
       "      <td>1.00</td>\n",
       "      <td>debt consolidation</td>\n",
       "      <td>Short Term</td>\n",
       "      <td>121396.00</td>\n",
       "      <td>95855.00</td>\n",
       "      <td>11338.00</td>\n",
       "      <td>694.00</td>\n",
       "      <td>0</td>\n",
       "    </tr>\n",
       "    <tr>\n",
       "      <th>4</th>\n",
       "      <td>Rent</td>\n",
       "      <td>776264.00</td>\n",
       "      <td>8 years</td>\n",
       "      <td>0.00</td>\n",
       "      <td>13.00</td>\n",
       "      <td>13.60</td>\n",
       "      <td>385836.00</td>\n",
       "      <td>1.00</td>\n",
       "      <td>nan</td>\n",
       "      <td>0.00</td>\n",
       "      <td>debt consolidation</td>\n",
       "      <td>Short Term</td>\n",
       "      <td>125840.00</td>\n",
       "      <td>93309.00</td>\n",
       "      <td>7180.00</td>\n",
       "      <td>719.00</td>\n",
       "      <td>0</td>\n",
       "    </tr>\n",
       "  </tbody>\n",
       "</table>\n",
       "</div>"
      ],
      "text/plain": [
       "  Home Ownership  Annual Income Years in current job  Tax Liens  \\\n",
       "0       Own Home      482087.00                  NaN       0.00   \n",
       "1       Own Home     1025487.00            10+ years       0.00   \n",
       "2  Home Mortgage      751412.00              8 years       0.00   \n",
       "3       Own Home      805068.00              6 years       0.00   \n",
       "4           Rent      776264.00              8 years       0.00   \n",
       "\n",
       "   Number of Open Accounts  Years of Credit History  Maximum Open Credit  \\\n",
       "0                    11.00                    26.30            685960.00   \n",
       "1                    15.00                    15.30           1181730.00   \n",
       "2                    11.00                    35.00           1182434.00   \n",
       "3                     8.00                    22.50            147400.00   \n",
       "4                    13.00                    13.60            385836.00   \n",
       "\n",
       "   Number of Credit Problems  Months since last delinquent  Bankruptcies  \\\n",
       "0                       1.00                           nan          1.00   \n",
       "1                       0.00                           nan          0.00   \n",
       "2                       0.00                           nan          0.00   \n",
       "3                       1.00                           nan          1.00   \n",
       "4                       1.00                           nan          0.00   \n",
       "\n",
       "              Purpose        Term  Current Loan Amount  \\\n",
       "0  debt consolidation  Short Term          99999999.00   \n",
       "1  debt consolidation   Long Term            264968.00   \n",
       "2  debt consolidation  Short Term          99999999.00   \n",
       "3  debt consolidation  Short Term            121396.00   \n",
       "4  debt consolidation  Short Term            125840.00   \n",
       "\n",
       "   Current Credit Balance  Monthly Debt  Credit Score  Credit Default  \n",
       "0                47386.00       7914.00        749.00               0  \n",
       "1               394972.00      18373.00        737.00               1  \n",
       "2               308389.00      13651.00        742.00               0  \n",
       "3                95855.00      11338.00        694.00               0  \n",
       "4                93309.00       7180.00        719.00               0  "
      ]
     },
     "execution_count": 5,
     "metadata": {},
     "output_type": "execute_result"
    }
   ],
   "source": [
    "train_df = pd.read_csv(TRAIN_DATASET_PATH)\n",
    "train_df.head()"
   ]
  },
  {
   "cell_type": "code",
   "execution_count": 6,
   "metadata": {},
   "outputs": [
    {
     "data": {
      "text/html": [
       "<div>\n",
       "<style scoped>\n",
       "    .dataframe tbody tr th:only-of-type {\n",
       "        vertical-align: middle;\n",
       "    }\n",
       "\n",
       "    .dataframe tbody tr th {\n",
       "        vertical-align: top;\n",
       "    }\n",
       "\n",
       "    .dataframe thead th {\n",
       "        text-align: right;\n",
       "    }\n",
       "</style>\n",
       "<table border=\"1\" class=\"dataframe\">\n",
       "  <thead>\n",
       "    <tr style=\"text-align: right;\">\n",
       "      <th></th>\n",
       "      <th>Home Ownership</th>\n",
       "      <th>Annual Income</th>\n",
       "      <th>Years in current job</th>\n",
       "      <th>Tax Liens</th>\n",
       "      <th>Number of Open Accounts</th>\n",
       "      <th>Years of Credit History</th>\n",
       "      <th>Maximum Open Credit</th>\n",
       "      <th>Number of Credit Problems</th>\n",
       "      <th>Months since last delinquent</th>\n",
       "      <th>Bankruptcies</th>\n",
       "      <th>Purpose</th>\n",
       "      <th>Term</th>\n",
       "      <th>Current Loan Amount</th>\n",
       "      <th>Current Credit Balance</th>\n",
       "      <th>Monthly Debt</th>\n",
       "      <th>Credit Score</th>\n",
       "    </tr>\n",
       "  </thead>\n",
       "  <tbody>\n",
       "    <tr>\n",
       "      <th>0</th>\n",
       "      <td>Rent</td>\n",
       "      <td>nan</td>\n",
       "      <td>4 years</td>\n",
       "      <td>0.00</td>\n",
       "      <td>9.00</td>\n",
       "      <td>12.50</td>\n",
       "      <td>220968.00</td>\n",
       "      <td>0.00</td>\n",
       "      <td>70.00</td>\n",
       "      <td>0.00</td>\n",
       "      <td>debt consolidation</td>\n",
       "      <td>Short Term</td>\n",
       "      <td>162470.00</td>\n",
       "      <td>105906.00</td>\n",
       "      <td>6813.00</td>\n",
       "      <td>nan</td>\n",
       "    </tr>\n",
       "    <tr>\n",
       "      <th>1</th>\n",
       "      <td>Rent</td>\n",
       "      <td>231838.00</td>\n",
       "      <td>1 year</td>\n",
       "      <td>0.00</td>\n",
       "      <td>6.00</td>\n",
       "      <td>32.70</td>\n",
       "      <td>55946.00</td>\n",
       "      <td>0.00</td>\n",
       "      <td>8.00</td>\n",
       "      <td>0.00</td>\n",
       "      <td>educational expenses</td>\n",
       "      <td>Short Term</td>\n",
       "      <td>78298.00</td>\n",
       "      <td>46037.00</td>\n",
       "      <td>2318.00</td>\n",
       "      <td>699.00</td>\n",
       "    </tr>\n",
       "    <tr>\n",
       "      <th>2</th>\n",
       "      <td>Home Mortgage</td>\n",
       "      <td>1152540.00</td>\n",
       "      <td>3 years</td>\n",
       "      <td>0.00</td>\n",
       "      <td>10.00</td>\n",
       "      <td>13.70</td>\n",
       "      <td>204600.00</td>\n",
       "      <td>0.00</td>\n",
       "      <td>nan</td>\n",
       "      <td>0.00</td>\n",
       "      <td>debt consolidation</td>\n",
       "      <td>Short Term</td>\n",
       "      <td>200178.00</td>\n",
       "      <td>146490.00</td>\n",
       "      <td>18729.00</td>\n",
       "      <td>7260.00</td>\n",
       "    </tr>\n",
       "    <tr>\n",
       "      <th>3</th>\n",
       "      <td>Home Mortgage</td>\n",
       "      <td>1220313.00</td>\n",
       "      <td>10+ years</td>\n",
       "      <td>0.00</td>\n",
       "      <td>16.00</td>\n",
       "      <td>17.00</td>\n",
       "      <td>456302.00</td>\n",
       "      <td>0.00</td>\n",
       "      <td>70.00</td>\n",
       "      <td>0.00</td>\n",
       "      <td>debt consolidation</td>\n",
       "      <td>Short Term</td>\n",
       "      <td>217382.00</td>\n",
       "      <td>213199.00</td>\n",
       "      <td>27559.00</td>\n",
       "      <td>739.00</td>\n",
       "    </tr>\n",
       "    <tr>\n",
       "      <th>4</th>\n",
       "      <td>Home Mortgage</td>\n",
       "      <td>2340952.00</td>\n",
       "      <td>6 years</td>\n",
       "      <td>0.00</td>\n",
       "      <td>11.00</td>\n",
       "      <td>23.60</td>\n",
       "      <td>1207272.00</td>\n",
       "      <td>0.00</td>\n",
       "      <td>nan</td>\n",
       "      <td>0.00</td>\n",
       "      <td>debt consolidation</td>\n",
       "      <td>Long Term</td>\n",
       "      <td>777634.00</td>\n",
       "      <td>425391.00</td>\n",
       "      <td>42605.00</td>\n",
       "      <td>706.00</td>\n",
       "    </tr>\n",
       "  </tbody>\n",
       "</table>\n",
       "</div>"
      ],
      "text/plain": [
       "  Home Ownership  Annual Income Years in current job  Tax Liens  \\\n",
       "0           Rent            nan              4 years       0.00   \n",
       "1           Rent      231838.00               1 year       0.00   \n",
       "2  Home Mortgage     1152540.00              3 years       0.00   \n",
       "3  Home Mortgage     1220313.00            10+ years       0.00   \n",
       "4  Home Mortgage     2340952.00              6 years       0.00   \n",
       "\n",
       "   Number of Open Accounts  Years of Credit History  Maximum Open Credit  \\\n",
       "0                     9.00                    12.50            220968.00   \n",
       "1                     6.00                    32.70             55946.00   \n",
       "2                    10.00                    13.70            204600.00   \n",
       "3                    16.00                    17.00            456302.00   \n",
       "4                    11.00                    23.60           1207272.00   \n",
       "\n",
       "   Number of Credit Problems  Months since last delinquent  Bankruptcies  \\\n",
       "0                       0.00                         70.00          0.00   \n",
       "1                       0.00                          8.00          0.00   \n",
       "2                       0.00                           nan          0.00   \n",
       "3                       0.00                         70.00          0.00   \n",
       "4                       0.00                           nan          0.00   \n",
       "\n",
       "                Purpose        Term  Current Loan Amount  \\\n",
       "0    debt consolidation  Short Term            162470.00   \n",
       "1  educational expenses  Short Term             78298.00   \n",
       "2    debt consolidation  Short Term            200178.00   \n",
       "3    debt consolidation  Short Term            217382.00   \n",
       "4    debt consolidation   Long Term            777634.00   \n",
       "\n",
       "   Current Credit Balance  Monthly Debt  Credit Score  \n",
       "0               105906.00       6813.00           nan  \n",
       "1                46037.00       2318.00        699.00  \n",
       "2               146490.00      18729.00       7260.00  \n",
       "3               213199.00      27559.00        739.00  \n",
       "4               425391.00      42605.00        706.00  "
      ]
     },
     "execution_count": 6,
     "metadata": {},
     "output_type": "execute_result"
    }
   ],
   "source": [
    "test_df = pd.read_csv(TEST_DATASET_PATH)\n",
    "test_df.head()"
   ]
  },
  {
   "cell_type": "code",
   "execution_count": 7,
   "metadata": {},
   "outputs": [
    {
     "data": {
      "text/plain": [
       "((7500, 17), (2500, 16))"
      ]
     },
     "execution_count": 7,
     "metadata": {},
     "output_type": "execute_result"
    }
   ],
   "source": [
    "train_df.shape, test_df.shape"
   ]
  },
  {
   "cell_type": "markdown",
   "metadata": {},
   "source": [
    "### Общая информации о данных"
   ]
  },
  {
   "cell_type": "code",
   "execution_count": 8,
   "metadata": {},
   "outputs": [
    {
     "name": "stdout",
     "output_type": "stream",
     "text": [
      "<class 'pandas.core.frame.DataFrame'>\n",
      "RangeIndex: 7500 entries, 0 to 7499\n",
      "Data columns (total 17 columns):\n",
      " #   Column                        Non-Null Count  Dtype  \n",
      "---  ------                        --------------  -----  \n",
      " 0   Home Ownership                7500 non-null   object \n",
      " 1   Annual Income                 5943 non-null   float64\n",
      " 2   Years in current job          7129 non-null   object \n",
      " 3   Tax Liens                     7500 non-null   float64\n",
      " 4   Number of Open Accounts       7500 non-null   float64\n",
      " 5   Years of Credit History       7500 non-null   float64\n",
      " 6   Maximum Open Credit           7500 non-null   float64\n",
      " 7   Number of Credit Problems     7500 non-null   float64\n",
      " 8   Months since last delinquent  3419 non-null   float64\n",
      " 9   Bankruptcies                  7486 non-null   float64\n",
      " 10  Purpose                       7500 non-null   object \n",
      " 11  Term                          7500 non-null   object \n",
      " 12  Current Loan Amount           7500 non-null   float64\n",
      " 13  Current Credit Balance        7500 non-null   float64\n",
      " 14  Monthly Debt                  7500 non-null   float64\n",
      " 15  Credit Score                  5943 non-null   float64\n",
      " 16  Credit Default                7500 non-null   int64  \n",
      "dtypes: float64(12), int64(1), object(4)\n",
      "memory usage: 996.2+ KB\n"
     ]
    }
   ],
   "source": [
    "train_df.info()"
   ]
  },
  {
   "cell_type": "code",
   "execution_count": 9,
   "metadata": {},
   "outputs": [
    {
     "data": {
      "text/plain": [
       "Home Ownership                            Own Home\n",
       "Annual Income                            482087.00\n",
       "Years in current job                           NaN\n",
       "Tax Liens                                     0.00\n",
       "Number of Open Accounts                      11.00\n",
       "Years of Credit History                      26.30\n",
       "Maximum Open Credit                      685960.00\n",
       "Number of Credit Problems                     1.00\n",
       "Months since last delinquent                   NaN\n",
       "Bankruptcies                                  1.00\n",
       "Purpose                         debt consolidation\n",
       "Term                                    Short Term\n",
       "Current Loan Amount                    99999999.00\n",
       "Current Credit Balance                    47386.00\n",
       "Monthly Debt                               7914.00\n",
       "Credit Score                                749.00\n",
       "Credit Default                                   0\n",
       "Name: 0, dtype: object"
      ]
     },
     "execution_count": 9,
     "metadata": {},
     "output_type": "execute_result"
    }
   ],
   "source": [
    "train_df.iloc[0]"
   ]
  },
  {
   "cell_type": "markdown",
   "metadata": {},
   "source": [
    "### Приведение типов"
   ]
  },
  {
   "cell_type": "code",
   "execution_count": 10,
   "metadata": {},
   "outputs": [],
   "source": [
    "train_df['ID'] = train_df.index.tolist()\n",
    "train_df.set_index('ID', inplace=True)"
   ]
  },
  {
   "cell_type": "code",
   "execution_count": 11,
   "metadata": {},
   "outputs": [],
   "source": [
    "test_df['ID'] = test_df.index.tolist()\n",
    "test_df.set_index('ID', inplace=True)"
   ]
  },
  {
   "cell_type": "markdown",
   "metadata": {},
   "source": [
    "### Оценка распредения целевой переменной в разрезе других признаков"
   ]
  },
  {
   "cell_type": "markdown",
   "metadata": {},
   "source": [
    "**Целевая переменная**"
   ]
  },
  {
   "cell_type": "code",
   "execution_count": 12,
   "metadata": {},
   "outputs": [],
   "source": [
    "target_name = 'Credit Default'"
   ]
  },
  {
   "cell_type": "code",
   "execution_count": 13,
   "metadata": {},
   "outputs": [
    {
     "data": {
      "text/plain": [
       "0    5387\n",
       "1    2113\n",
       "Name: Credit Default, dtype: int64"
      ]
     },
     "execution_count": 13,
     "metadata": {},
     "output_type": "execute_result"
    }
   ],
   "source": [
    "train_df['Credit Default'].value_counts()"
   ]
  },
  {
   "cell_type": "code",
   "execution_count": 14,
   "metadata": {},
   "outputs": [],
   "source": [
    "base_feature_names = train_df.columns.drop(target_name).tolist()"
   ]
  },
  {
   "cell_type": "code",
   "execution_count": 15,
   "metadata": {},
   "outputs": [
    {
     "data": {
      "text/plain": [
       "['Home Ownership',\n",
       " 'Annual Income',\n",
       " 'Years in current job',\n",
       " 'Tax Liens',\n",
       " 'Number of Open Accounts',\n",
       " 'Years of Credit History',\n",
       " 'Maximum Open Credit',\n",
       " 'Number of Credit Problems',\n",
       " 'Months since last delinquent',\n",
       " 'Bankruptcies',\n",
       " 'Purpose',\n",
       " 'Term',\n",
       " 'Current Loan Amount',\n",
       " 'Current Credit Balance',\n",
       " 'Monthly Debt',\n",
       " 'Credit Score']"
      ]
     },
     "execution_count": 15,
     "metadata": {},
     "output_type": "execute_result"
    }
   ],
   "source": [
    "base_feature_names"
   ]
  },
  {
   "cell_type": "code",
   "execution_count": 16,
   "metadata": {},
   "outputs": [
    {
     "data": {
      "image/png": "[encoded data removed]",
      "text/plain": [
       "<Figure size 576x360 with 1 Axes>"
      ]
     },
     "metadata": {
      "needs_background": "light"
     },
     "output_type": "display_data"
    }
   ],
   "source": [
    "plt.figure(figsize=(8, 5))\n",
    "\n",
    "sns.countplot(x=target_name, data=train_df)\n",
    "\n",
    "plt.title('Target variable distribution')\n",
    "plt.show()"
   ]
  },
  {
   "cell_type": "markdown",
   "metadata": {},
   "source": [
    "**Корреляция с базовыми признаками**"
   ]
  },
  {
   "cell_type": "code",
   "execution_count": 17,
   "metadata": {},
   "outputs": [
    {
     "data": {
      "image/png": "[encoded data removed]",
      "text/plain": [
       "<Figure size 720x576 with 1 Axes>"
      ]
     },
     "metadata": {
      "needs_background": "light"
     },
     "output_type": "display_data"
    }
   ],
   "source": [
    "corr_with_target = train_df[base_feature_names + [target_name]].corr().iloc[:-1, -1].sort_values(ascending=False)\n",
    "\n",
    "plt.figure(figsize=(10, 8))\n",
    "\n",
    "sns.barplot(x=corr_with_target.values, y=corr_with_target.index)\n",
    "\n",
    "plt.title('Correlation with target variable')\n",
    "plt.show()"
   ]
  },
  {
   "cell_type": "code",
   "execution_count": 18,
   "metadata": {},
   "outputs": [
    {
     "data": {
      "image/png": "[encoded data removed]",
      "text/plain": [
       "<Figure size 2160x1440 with 2 Axes>"
      ]
     },
     "metadata": {
      "needs_background": "light"
     },
     "output_type": "display_data"
    }
   ],
   "source": [
    "plt.figure(figsize = (30,20))\n",
    "\n",
    "sns.set(font_scale=1.4)\n",
    "sns.heatmap(train_df[base_feature_names].corr().round(3), annot=True, linewidths=.5, cmap='GnBu')\n",
    "\n",
    "plt.title('Correlation matrix')\n",
    "plt.show()"
   ]
  },
  {
   "cell_type": "markdown",
   "metadata": {},
   "source": [
    "### Обзор данных"
   ]
  },
  {
   "cell_type": "code",
   "execution_count": 19,
   "metadata": {},
   "outputs": [
    {
     "data": {
      "text/plain": [
       "Home Ownership                     4\n",
       "Annual Income                   5478\n",
       "Years in current job              11\n",
       "Tax Liens                          8\n",
       "Number of Open Accounts           39\n",
       "Years of Credit History          408\n",
       "Maximum Open Credit             6963\n",
       "Number of Credit Problems          8\n",
       "Months since last delinquent      89\n",
       "Bankruptcies                       5\n",
       "Purpose                           15\n",
       "Term                               2\n",
       "Current Loan Amount             5386\n",
       "Current Credit Balance          6592\n",
       "Monthly Debt                    6716\n",
       "Credit Score                     268\n",
       "Credit Default                     2\n",
       "dtype: int64"
      ]
     },
     "execution_count": 19,
     "metadata": {},
     "output_type": "execute_result"
    }
   ],
   "source": [
    "train_df.nunique()"
   ]
  },
  {
   "cell_type": "markdown",
   "metadata": {},
   "source": [
    "**Обзор количественных признаков**"
   ]
  },
  {
   "cell_type": "code",
   "execution_count": 20,
   "metadata": {},
   "outputs": [
    {
     "data": {
      "text/html": [
       "<div>\n",
       "<style scoped>\n",
       "    .dataframe tbody tr th:only-of-type {\n",
       "        vertical-align: middle;\n",
       "    }\n",
       "\n",
       "    .dataframe tbody tr th {\n",
       "        vertical-align: top;\n",
       "    }\n",
       "\n",
       "    .dataframe thead th {\n",
       "        text-align: right;\n",
       "    }\n",
       "</style>\n",
       "<table border=\"1\" class=\"dataframe\">\n",
       "  <thead>\n",
       "    <tr style=\"text-align: right;\">\n",
       "      <th></th>\n",
       "      <th>Annual Income</th>\n",
       "      <th>Tax Liens</th>\n",
       "      <th>Number of Open Accounts</th>\n",
       "      <th>Years of Credit History</th>\n",
       "      <th>Maximum Open Credit</th>\n",
       "      <th>Number of Credit Problems</th>\n",
       "      <th>Months since last delinquent</th>\n",
       "      <th>Bankruptcies</th>\n",
       "      <th>Current Loan Amount</th>\n",
       "      <th>Current Credit Balance</th>\n",
       "      <th>Monthly Debt</th>\n",
       "      <th>Credit Score</th>\n",
       "      <th>Credit Default</th>\n",
       "    </tr>\n",
       "  </thead>\n",
       "  <tbody>\n",
       "    <tr>\n",
       "      <th>count</th>\n",
       "      <td>5943.00</td>\n",
       "      <td>7500.00</td>\n",
       "      <td>7500.00</td>\n",
       "      <td>7500.00</td>\n",
       "      <td>7500.00</td>\n",
       "      <td>7500.00</td>\n",
       "      <td>3419.00</td>\n",
       "      <td>7486.00</td>\n",
       "      <td>7500.00</td>\n",
       "      <td>7500.00</td>\n",
       "      <td>7500.00</td>\n",
       "      <td>5943.00</td>\n",
       "      <td>7500.00</td>\n",
       "    </tr>\n",
       "    <tr>\n",
       "      <th>mean</th>\n",
       "      <td>1366391.72</td>\n",
       "      <td>0.03</td>\n",
       "      <td>11.13</td>\n",
       "      <td>18.32</td>\n",
       "      <td>945153.73</td>\n",
       "      <td>0.17</td>\n",
       "      <td>34.69</td>\n",
       "      <td>0.12</td>\n",
       "      <td>11873177.45</td>\n",
       "      <td>289833.24</td>\n",
       "      <td>18314.45</td>\n",
       "      <td>1151.09</td>\n",
       "      <td>0.28</td>\n",
       "    </tr>\n",
       "    <tr>\n",
       "      <th>std</th>\n",
       "      <td>845339.20</td>\n",
       "      <td>0.27</td>\n",
       "      <td>4.91</td>\n",
       "      <td>7.04</td>\n",
       "      <td>16026216.67</td>\n",
       "      <td>0.50</td>\n",
       "      <td>21.69</td>\n",
       "      <td>0.35</td>\n",
       "      <td>31926122.97</td>\n",
       "      <td>317871.38</td>\n",
       "      <td>11926.76</td>\n",
       "      <td>1604.45</td>\n",
       "      <td>0.45</td>\n",
       "    </tr>\n",
       "    <tr>\n",
       "      <th>min</th>\n",
       "      <td>164597.00</td>\n",
       "      <td>0.00</td>\n",
       "      <td>2.00</td>\n",
       "      <td>4.00</td>\n",
       "      <td>0.00</td>\n",
       "      <td>0.00</td>\n",
       "      <td>0.00</td>\n",
       "      <td>0.00</td>\n",
       "      <td>11242.00</td>\n",
       "      <td>0.00</td>\n",
       "      <td>0.00</td>\n",
       "      <td>585.00</td>\n",
       "      <td>0.00</td>\n",
       "    </tr>\n",
       "    <tr>\n",
       "      <th>25%</th>\n",
       "      <td>844341.00</td>\n",
       "      <td>0.00</td>\n",
       "      <td>8.00</td>\n",
       "      <td>13.50</td>\n",
       "      <td>279229.50</td>\n",
       "      <td>0.00</td>\n",
       "      <td>16.00</td>\n",
       "      <td>0.00</td>\n",
       "      <td>180169.00</td>\n",
       "      <td>114256.50</td>\n",
       "      <td>10067.50</td>\n",
       "      <td>711.00</td>\n",
       "      <td>0.00</td>\n",
       "    </tr>\n",
       "    <tr>\n",
       "      <th>50%</th>\n",
       "      <td>1168386.00</td>\n",
       "      <td>0.00</td>\n",
       "      <td>10.00</td>\n",
       "      <td>17.00</td>\n",
       "      <td>478159.00</td>\n",
       "      <td>0.00</td>\n",
       "      <td>32.00</td>\n",
       "      <td>0.00</td>\n",
       "      <td>309573.00</td>\n",
       "      <td>209323.00</td>\n",
       "      <td>16076.50</td>\n",
       "      <td>731.00</td>\n",
       "      <td>0.00</td>\n",
       "    </tr>\n",
       "    <tr>\n",
       "      <th>75%</th>\n",
       "      <td>1640137.00</td>\n",
       "      <td>0.00</td>\n",
       "      <td>14.00</td>\n",
       "      <td>21.80</td>\n",
       "      <td>793501.50</td>\n",
       "      <td>0.00</td>\n",
       "      <td>50.00</td>\n",
       "      <td>0.00</td>\n",
       "      <td>519882.00</td>\n",
       "      <td>360406.25</td>\n",
       "      <td>23818.00</td>\n",
       "      <td>743.00</td>\n",
       "      <td>1.00</td>\n",
       "    </tr>\n",
       "    <tr>\n",
       "      <th>max</th>\n",
       "      <td>10149344.00</td>\n",
       "      <td>7.00</td>\n",
       "      <td>43.00</td>\n",
       "      <td>57.70</td>\n",
       "      <td>1304726170.00</td>\n",
       "      <td>7.00</td>\n",
       "      <td>118.00</td>\n",
       "      <td>4.00</td>\n",
       "      <td>99999999.00</td>\n",
       "      <td>6506797.00</td>\n",
       "      <td>136679.00</td>\n",
       "      <td>7510.00</td>\n",
       "      <td>1.00</td>\n",
       "    </tr>\n",
       "  </tbody>\n",
       "</table>\n",
       "</div>"
      ],
      "text/plain": [
       "       Annual Income  Tax Liens  Number of Open Accounts  \\\n",
       "count        5943.00    7500.00                  7500.00   \n",
       "mean      1366391.72       0.03                    11.13   \n",
       "std        845339.20       0.27                     4.91   \n",
       "min        164597.00       0.00                     2.00   \n",
       "25%        844341.00       0.00                     8.00   \n",
       "50%       1168386.00       0.00                    10.00   \n",
       "75%       1640137.00       0.00                    14.00   \n",
       "max      10149344.00       7.00                    43.00   \n",
       "\n",
       "       Years of Credit History  Maximum Open Credit  \\\n",
       "count                  7500.00              7500.00   \n",
       "mean                     18.32            945153.73   \n",
       "std                       7.04          16026216.67   \n",
       "min                       4.00                 0.00   \n",
       "25%                      13.50            279229.50   \n",
       "50%                      17.00            478159.00   \n",
       "75%                      21.80            793501.50   \n",
       "max                      57.70        1304726170.00   \n",
       "\n",
       "       Number of Credit Problems  Months since last delinquent  Bankruptcies  \\\n",
       "count                    7500.00                       3419.00       7486.00   \n",
       "mean                        0.17                         34.69          0.12   \n",
       "std                         0.50                         21.69          0.35   \n",
       "min                         0.00                          0.00          0.00   \n",
       "25%                         0.00                         16.00          0.00   \n",
       "50%                         0.00                         32.00          0.00   \n",
       "75%                         0.00                         50.00          0.00   \n",
       "max                         7.00                        118.00          4.00   \n",
       "\n",
       "       Current Loan Amount  Current Credit Balance  Monthly Debt  \\\n",
       "count              7500.00                 7500.00       7500.00   \n",
       "mean           11873177.45               289833.24      18314.45   \n",
       "std            31926122.97               317871.38      11926.76   \n",
       "min               11242.00                    0.00          0.00   \n",
       "25%              180169.00               114256.50      10067.50   \n",
       "50%              309573.00               209323.00      16076.50   \n",
       "75%              519882.00               360406.25      23818.00   \n",
       "max            99999999.00              6506797.00     136679.00   \n",
       "\n",
       "       Credit Score  Credit Default  \n",
       "count       5943.00         7500.00  \n",
       "mean        1151.09            0.28  \n",
       "std         1604.45            0.45  \n",
       "min          585.00            0.00  \n",
       "25%          711.00            0.00  \n",
       "50%          731.00            0.00  \n",
       "75%          743.00            1.00  \n",
       "max         7510.00            1.00  "
      ]
     },
     "execution_count": 20,
     "metadata": {},
     "output_type": "execute_result"
    }
   ],
   "source": [
    "train_df.describe()"
   ]
  },
  {
   "cell_type": "code",
   "execution_count": 21,
   "metadata": {},
   "outputs": [
    {
     "data": {
      "text/plain": [
       "['Annual Income',\n",
       " 'Tax Liens',\n",
       " 'Number of Open Accounts',\n",
       " 'Years of Credit History',\n",
       " 'Maximum Open Credit',\n",
       " 'Number of Credit Problems',\n",
       " 'Months since last delinquent',\n",
       " 'Bankruptcies',\n",
       " 'Current Loan Amount',\n",
       " 'Current Credit Balance',\n",
       " 'Monthly Debt',\n",
       " 'Credit Score']"
      ]
     },
     "execution_count": 21,
     "metadata": {},
     "output_type": "execute_result"
    }
   ],
   "source": [
    "feature_num_names = train_df.drop('Credit Default', axis=1).select_dtypes(include=['float64']).columns.tolist()\n",
    "feature_num_names"
   ]
  },
  {
   "cell_type": "code",
   "execution_count": 22,
   "metadata": {},
   "outputs": [
    {
     "data": {
      "image/png": "[encoded data removed]",
      "text/plain": [
       "<Figure size 1008x1008 with 12 Axes>"
      ]
     },
     "metadata": {},
     "output_type": "display_data"
    }
   ],
   "source": [
    "train_df[feature_num_names].hist(figsize=(14,14), bins=20, grid=True);"
   ]
  },
  {
   "cell_type": "markdown",
   "metadata": {},
   "source": [
    "**Обзор категориальных переменных** "
   ]
  },
  {
   "cell_type": "code",
   "execution_count": 23,
   "metadata": {},
   "outputs": [
    {
     "data": {
      "text/html": [
       "<div>\n",
       "<style scoped>\n",
       "    .dataframe tbody tr th:only-of-type {\n",
       "        vertical-align: middle;\n",
       "    }\n",
       "\n",
       "    .dataframe tbody tr th {\n",
       "        vertical-align: top;\n",
       "    }\n",
       "\n",
       "    .dataframe thead th {\n",
       "        text-align: right;\n",
       "    }\n",
       "</style>\n",
       "<table border=\"1\" class=\"dataframe\">\n",
       "  <thead>\n",
       "    <tr style=\"text-align: right;\">\n",
       "      <th></th>\n",
       "      <th>Home Ownership</th>\n",
       "      <th>Years in current job</th>\n",
       "      <th>Purpose</th>\n",
       "      <th>Term</th>\n",
       "    </tr>\n",
       "  </thead>\n",
       "  <tbody>\n",
       "    <tr>\n",
       "      <th>count</th>\n",
       "      <td>7500</td>\n",
       "      <td>7129</td>\n",
       "      <td>7500</td>\n",
       "      <td>7500</td>\n",
       "    </tr>\n",
       "    <tr>\n",
       "      <th>unique</th>\n",
       "      <td>4</td>\n",
       "      <td>11</td>\n",
       "      <td>15</td>\n",
       "      <td>2</td>\n",
       "    </tr>\n",
       "    <tr>\n",
       "      <th>top</th>\n",
       "      <td>Home Mortgage</td>\n",
       "      <td>10+ years</td>\n",
       "      <td>debt consolidation</td>\n",
       "      <td>Short Term</td>\n",
       "    </tr>\n",
       "    <tr>\n",
       "      <th>freq</th>\n",
       "      <td>3637</td>\n",
       "      <td>2332</td>\n",
       "      <td>5944</td>\n",
       "      <td>5556</td>\n",
       "    </tr>\n",
       "  </tbody>\n",
       "</table>\n",
       "</div>"
      ],
      "text/plain": [
       "       Home Ownership Years in current job             Purpose        Term\n",
       "count            7500                 7129                7500        7500\n",
       "unique              4                   11                  15           2\n",
       "top     Home Mortgage            10+ years  debt consolidation  Short Term\n",
       "freq             3637                 2332                5944        5556"
      ]
     },
     "execution_count": 23,
     "metadata": {},
     "output_type": "execute_result"
    }
   ],
   "source": [
    "train_df.describe(include='object')"
   ]
  },
  {
   "cell_type": "code",
   "execution_count": 24,
   "metadata": {},
   "outputs": [
    {
     "name": "stdout",
     "output_type": "stream",
     "text": [
      "Home Ownership\n",
      "\n",
      "Home Mortgage    3637\n",
      "Rent             3204\n",
      "Own Home          647\n",
      "Have Mortgage      12\n",
      "Name: Home Ownership, dtype: int64\n",
      "****************************************************************************************************\n",
      "\n",
      "Years in current job\n",
      "\n",
      "10+ years    2332\n",
      "2 years       705\n",
      "3 years       620\n",
      "< 1 year      563\n",
      "5 years       516\n",
      "1 year        504\n",
      "4 years       469\n",
      "6 years       426\n",
      "7 years       396\n",
      "8 years       339\n",
      "9 years       259\n",
      "Name: Years in current job, dtype: int64\n",
      "****************************************************************************************************\n",
      "\n",
      "Purpose\n",
      "\n",
      "debt consolidation      5944\n",
      "other                    665\n",
      "home improvements        412\n",
      "business loan            129\n",
      "buy a car                 96\n",
      "medical bills             71\n",
      "major purchase            40\n",
      "take a trip               37\n",
      "buy house                 34\n",
      "small business            26\n",
      "wedding                   15\n",
      "moving                    11\n",
      "educational expenses      10\n",
      "vacation                   8\n",
      "renewable energy           2\n",
      "Name: Purpose, dtype: int64\n",
      "****************************************************************************************************\n",
      "\n",
      "Term\n",
      "\n",
      "Short Term    5556\n",
      "Long Term     1944\n",
      "Name: Term, dtype: int64\n",
      "****************************************************************************************************\n",
      "\n"
     ]
    }
   ],
   "source": [
    "for cat_colname in train_df.select_dtypes(include='object').columns:\n",
    "    print(str(cat_colname) + '\\n\\n' + str(train_df[cat_colname].value_counts()) + '\\n' + '*' * 100 + '\\n')"
   ]
  },
  {
   "cell_type": "markdown",
   "metadata": {},
   "source": [
    "**Purpose**"
   ]
  },
  {
   "cell_type": "code",
   "execution_count": 25,
   "metadata": {},
   "outputs": [],
   "source": [
    "#Вообще я хотела добавить эти значения в other - но я не поняла как"
   ]
  },
  {
   "cell_type": "code",
   "execution_count": 26,
   "metadata": {},
   "outputs": [],
   "source": [
    "train_df.loc[train_df['Purpose'] == 'renewable energy', 'Purpose'] = train_df['Purpose'].mode()[0]\n",
    "test_df.loc[train_df['Purpose'] == 'renewable energy ', 'Purpose'] = test_df['Purpose'].mode()[0]"
   ]
  },
  {
   "cell_type": "code",
   "execution_count": 27,
   "metadata": {},
   "outputs": [],
   "source": [
    "train_df.loc[train_df['Purpose'] == 'vacation', 'Purpose'] = train_df['Purpose'].mode()[0]\n",
    "test_df.loc[train_df['Purpose'] == 'vacation', 'Purpose'] = test_df['Purpose'].mode()[0]"
   ]
  },
  {
   "cell_type": "code",
   "execution_count": 28,
   "metadata": {},
   "outputs": [],
   "source": [
    "train_df.loc[train_df['Purpose'] == 'educational expenses', 'Purpose'] = train_df['Purpose'].mode()[0]\n",
    "test_df.loc[train_df['Purpose'] == 'educational expenses', 'Purpose'] = test_df['Purpose'].mode()[0]"
   ]
  },
  {
   "cell_type": "code",
   "execution_count": 29,
   "metadata": {},
   "outputs": [],
   "source": [
    "train_df.loc[train_df['Purpose'] == 'moving', 'Purpose'] = train_df['Purpose'].mode()[0]\n",
    "test_df.loc[train_df['Purpose'] == 'moving', 'Purpose'] = test_df['Purpose'].mode()[0]"
   ]
  },
  {
   "cell_type": "markdown",
   "metadata": {},
   "source": [
    "**Home Ownership**"
   ]
  },
  {
   "cell_type": "code",
   "execution_count": 30,
   "metadata": {},
   "outputs": [],
   "source": [
    "train_df.loc[train_df['Home Ownership'] == 'Have Mortgage', 'Home Ownership'] = train_df['Home Ownership'].mode()[0]\n",
    "test_df.loc[train_df['Home Ownership'] == 'Have Mortgage', 'Home Ownership'] = test_df['Home Ownership'].mode()[0]"
   ]
  },
  {
   "cell_type": "markdown",
   "metadata": {},
   "source": [
    "**Term**"
   ]
  },
  {
   "cell_type": "code",
   "execution_count": 31,
   "metadata": {},
   "outputs": [],
   "source": [
    "#Тут тоже мб накуролесила,не знаю - хотела перевести в бинарные переменные - но они перевелись в int, \n",
    "#а от int надо стараться избавляться"
   ]
  },
  {
   "cell_type": "code",
   "execution_count": 32,
   "metadata": {},
   "outputs": [],
   "source": [
    "train_df.Term=train_df.Term.map({'Short Term':0,'Long Term ':1})\n",
    "test_df.Term=test_df.Term.map({'Short Term':0,'Long Term ':1})"
   ]
  },
  {
   "cell_type": "code",
   "execution_count": 33,
   "metadata": {},
   "outputs": [],
   "source": [
    "train_df['Term'] = train_df['Term'].astype(str)\n",
    "test_df['Term'] = test_df['Term'].astype(str)"
   ]
  },
  {
   "cell_type": "code",
   "execution_count": 34,
   "metadata": {},
   "outputs": [
    {
     "name": "stdout",
     "output_type": "stream",
     "text": [
      "<class 'pandas.core.frame.DataFrame'>\n",
      "Int64Index: 7500 entries, 0 to 7499\n",
      "Data columns (total 17 columns):\n",
      " #   Column                        Non-Null Count  Dtype  \n",
      "---  ------                        --------------  -----  \n",
      " 0   Home Ownership                7500 non-null   object \n",
      " 1   Annual Income                 5943 non-null   float64\n",
      " 2   Years in current job          7129 non-null   object \n",
      " 3   Tax Liens                     7500 non-null   float64\n",
      " 4   Number of Open Accounts       7500 non-null   float64\n",
      " 5   Years of Credit History       7500 non-null   float64\n",
      " 6   Maximum Open Credit           7500 non-null   float64\n",
      " 7   Number of Credit Problems     7500 non-null   float64\n",
      " 8   Months since last delinquent  3419 non-null   float64\n",
      " 9   Bankruptcies                  7486 non-null   float64\n",
      " 10  Purpose                       7500 non-null   object \n",
      " 11  Term                          7500 non-null   object \n",
      " 12  Current Loan Amount           7500 non-null   float64\n",
      " 13  Current Credit Balance        7500 non-null   float64\n",
      " 14  Monthly Debt                  7500 non-null   float64\n",
      " 15  Credit Score                  5943 non-null   float64\n",
      " 16  Credit Default                7500 non-null   int64  \n",
      "dtypes: float64(12), int64(1), object(4)\n",
      "memory usage: 1.3+ MB\n"
     ]
    }
   ],
   "source": [
    "train_df.info()"
   ]
  },
  {
   "cell_type": "markdown",
   "metadata": {},
   "source": [
    "### Обработка пропусков"
   ]
  },
  {
   "cell_type": "code",
   "execution_count": 35,
   "metadata": {},
   "outputs": [
    {
     "data": {
      "text/html": [
       "<div>\n",
       "<style scoped>\n",
       "    .dataframe tbody tr th:only-of-type {\n",
       "        vertical-align: middle;\n",
       "    }\n",
       "\n",
       "    .dataframe tbody tr th {\n",
       "        vertical-align: top;\n",
       "    }\n",
       "\n",
       "    .dataframe thead th {\n",
       "        text-align: right;\n",
       "    }\n",
       "</style>\n",
       "<table border=\"1\" class=\"dataframe\">\n",
       "  <thead>\n",
       "    <tr style=\"text-align: right;\">\n",
       "      <th></th>\n",
       "      <th>Annual Income</th>\n",
       "      <th>Tax Liens</th>\n",
       "      <th>Number of Open Accounts</th>\n",
       "      <th>Years of Credit History</th>\n",
       "      <th>Maximum Open Credit</th>\n",
       "      <th>Number of Credit Problems</th>\n",
       "      <th>Months since last delinquent</th>\n",
       "      <th>Bankruptcies</th>\n",
       "      <th>Current Loan Amount</th>\n",
       "      <th>Current Credit Balance</th>\n",
       "      <th>Monthly Debt</th>\n",
       "      <th>Credit Score</th>\n",
       "      <th>Credit Default</th>\n",
       "    </tr>\n",
       "  </thead>\n",
       "  <tbody>\n",
       "    <tr>\n",
       "      <th>count</th>\n",
       "      <td>5943.00</td>\n",
       "      <td>7500.00</td>\n",
       "      <td>7500.00</td>\n",
       "      <td>7500.00</td>\n",
       "      <td>7500.00</td>\n",
       "      <td>7500.00</td>\n",
       "      <td>3419.00</td>\n",
       "      <td>7486.00</td>\n",
       "      <td>7500.00</td>\n",
       "      <td>7500.00</td>\n",
       "      <td>7500.00</td>\n",
       "      <td>5943.00</td>\n",
       "      <td>7500.00</td>\n",
       "    </tr>\n",
       "    <tr>\n",
       "      <th>mean</th>\n",
       "      <td>1366391.72</td>\n",
       "      <td>0.03</td>\n",
       "      <td>11.13</td>\n",
       "      <td>18.32</td>\n",
       "      <td>945153.73</td>\n",
       "      <td>0.17</td>\n",
       "      <td>34.69</td>\n",
       "      <td>0.12</td>\n",
       "      <td>11873177.45</td>\n",
       "      <td>289833.24</td>\n",
       "      <td>18314.45</td>\n",
       "      <td>1151.09</td>\n",
       "      <td>0.28</td>\n",
       "    </tr>\n",
       "    <tr>\n",
       "      <th>std</th>\n",
       "      <td>845339.20</td>\n",
       "      <td>0.27</td>\n",
       "      <td>4.91</td>\n",
       "      <td>7.04</td>\n",
       "      <td>16026216.67</td>\n",
       "      <td>0.50</td>\n",
       "      <td>21.69</td>\n",
       "      <td>0.35</td>\n",
       "      <td>31926122.97</td>\n",
       "      <td>317871.38</td>\n",
       "      <td>11926.76</td>\n",
       "      <td>1604.45</td>\n",
       "      <td>0.45</td>\n",
       "    </tr>\n",
       "    <tr>\n",
       "      <th>min</th>\n",
       "      <td>164597.00</td>\n",
       "      <td>0.00</td>\n",
       "      <td>2.00</td>\n",
       "      <td>4.00</td>\n",
       "      <td>0.00</td>\n",
       "      <td>0.00</td>\n",
       "      <td>0.00</td>\n",
       "      <td>0.00</td>\n",
       "      <td>11242.00</td>\n",
       "      <td>0.00</td>\n",
       "      <td>0.00</td>\n",
       "      <td>585.00</td>\n",
       "      <td>0.00</td>\n",
       "    </tr>\n",
       "    <tr>\n",
       "      <th>25%</th>\n",
       "      <td>844341.00</td>\n",
       "      <td>0.00</td>\n",
       "      <td>8.00</td>\n",
       "      <td>13.50</td>\n",
       "      <td>279229.50</td>\n",
       "      <td>0.00</td>\n",
       "      <td>16.00</td>\n",
       "      <td>0.00</td>\n",
       "      <td>180169.00</td>\n",
       "      <td>114256.50</td>\n",
       "      <td>10067.50</td>\n",
       "      <td>711.00</td>\n",
       "      <td>0.00</td>\n",
       "    </tr>\n",
       "    <tr>\n",
       "      <th>50%</th>\n",
       "      <td>1168386.00</td>\n",
       "      <td>0.00</td>\n",
       "      <td>10.00</td>\n",
       "      <td>17.00</td>\n",
       "      <td>478159.00</td>\n",
       "      <td>0.00</td>\n",
       "      <td>32.00</td>\n",
       "      <td>0.00</td>\n",
       "      <td>309573.00</td>\n",
       "      <td>209323.00</td>\n",
       "      <td>16076.50</td>\n",
       "      <td>731.00</td>\n",
       "      <td>0.00</td>\n",
       "    </tr>\n",
       "    <tr>\n",
       "      <th>75%</th>\n",
       "      <td>1640137.00</td>\n",
       "      <td>0.00</td>\n",
       "      <td>14.00</td>\n",
       "      <td>21.80</td>\n",
       "      <td>793501.50</td>\n",
       "      <td>0.00</td>\n",
       "      <td>50.00</td>\n",
       "      <td>0.00</td>\n",
       "      <td>519882.00</td>\n",
       "      <td>360406.25</td>\n",
       "      <td>23818.00</td>\n",
       "      <td>743.00</td>\n",
       "      <td>1.00</td>\n",
       "    </tr>\n",
       "    <tr>\n",
       "      <th>max</th>\n",
       "      <td>10149344.00</td>\n",
       "      <td>7.00</td>\n",
       "      <td>43.00</td>\n",
       "      <td>57.70</td>\n",
       "      <td>1304726170.00</td>\n",
       "      <td>7.00</td>\n",
       "      <td>118.00</td>\n",
       "      <td>4.00</td>\n",
       "      <td>99999999.00</td>\n",
       "      <td>6506797.00</td>\n",
       "      <td>136679.00</td>\n",
       "      <td>7510.00</td>\n",
       "      <td>1.00</td>\n",
       "    </tr>\n",
       "  </tbody>\n",
       "</table>\n",
       "</div>"
      ],
      "text/plain": [
       "       Annual Income  Tax Liens  Number of Open Accounts  \\\n",
       "count        5943.00    7500.00                  7500.00   \n",
       "mean      1366391.72       0.03                    11.13   \n",
       "std        845339.20       0.27                     4.91   \n",
       "min        164597.00       0.00                     2.00   \n",
       "25%        844341.00       0.00                     8.00   \n",
       "50%       1168386.00       0.00                    10.00   \n",
       "75%       1640137.00       0.00                    14.00   \n",
       "max      10149344.00       7.00                    43.00   \n",
       "\n",
       "       Years of Credit History  Maximum Open Credit  \\\n",
       "count                  7500.00              7500.00   \n",
       "mean                     18.32            945153.73   \n",
       "std                       7.04          16026216.67   \n",
       "min                       4.00                 0.00   \n",
       "25%                      13.50            279229.50   \n",
       "50%                      17.00            478159.00   \n",
       "75%                      21.80            793501.50   \n",
       "max                      57.70        1304726170.00   \n",
       "\n",
       "       Number of Credit Problems  Months since last delinquent  Bankruptcies  \\\n",
       "count                    7500.00                       3419.00       7486.00   \n",
       "mean                        0.17                         34.69          0.12   \n",
       "std                         0.50                         21.69          0.35   \n",
       "min                         0.00                          0.00          0.00   \n",
       "25%                         0.00                         16.00          0.00   \n",
       "50%                         0.00                         32.00          0.00   \n",
       "75%                         0.00                         50.00          0.00   \n",
       "max                         7.00                        118.00          4.00   \n",
       "\n",
       "       Current Loan Amount  Current Credit Balance  Monthly Debt  \\\n",
       "count              7500.00                 7500.00       7500.00   \n",
       "mean           11873177.45               289833.24      18314.45   \n",
       "std            31926122.97               317871.38      11926.76   \n",
       "min               11242.00                    0.00          0.00   \n",
       "25%              180169.00               114256.50      10067.50   \n",
       "50%              309573.00               209323.00      16076.50   \n",
       "75%              519882.00               360406.25      23818.00   \n",
       "max            99999999.00              6506797.00     136679.00   \n",
       "\n",
       "       Credit Score  Credit Default  \n",
       "count       5943.00         7500.00  \n",
       "mean        1151.09            0.28  \n",
       "std         1604.45            0.45  \n",
       "min          585.00            0.00  \n",
       "25%          711.00            0.00  \n",
       "50%          731.00            0.00  \n",
       "75%          743.00            1.00  \n",
       "max         7510.00            1.00  "
      ]
     },
     "execution_count": 35,
     "metadata": {},
     "output_type": "execute_result"
    }
   ],
   "source": [
    "train_df.describe()"
   ]
  },
  {
   "cell_type": "code",
   "execution_count": 36,
   "metadata": {},
   "outputs": [
    {
     "data": {
      "text/plain": [
       "Home Ownership                     0\n",
       "Annual Income                   1557\n",
       "Years in current job             371\n",
       "Tax Liens                          0\n",
       "Number of Open Accounts            0\n",
       "Years of Credit History            0\n",
       "Maximum Open Credit                0\n",
       "Number of Credit Problems          0\n",
       "Months since last delinquent    4081\n",
       "Bankruptcies                      14\n",
       "Purpose                            0\n",
       "Term                               0\n",
       "Current Loan Amount                0\n",
       "Current Credit Balance             0\n",
       "Monthly Debt                       0\n",
       "Credit Score                    1557\n",
       "Credit Default                     0\n",
       "dtype: int64"
      ]
     },
     "execution_count": 36,
     "metadata": {},
     "output_type": "execute_result"
    }
   ],
   "source": [
    "train_df.isna().sum()"
   ]
  },
  {
   "cell_type": "markdown",
   "metadata": {},
   "source": [
    "**Annual Income**"
   ]
  },
  {
   "cell_type": "code",
   "execution_count": 37,
   "metadata": {},
   "outputs": [
    {
     "data": {
      "text/plain": [
       "1161660.00    4\n",
       "1058376.00    4\n",
       "1338113.00    4\n",
       "1043651.00    4\n",
       "969475.00     4\n",
       "             ..\n",
       "1141254.00    1\n",
       "7907382.00    1\n",
       "1534478.00    1\n",
       "972040.00     1\n",
       "1654786.00    1\n",
       "Name: Annual Income, Length: 5478, dtype: int64"
      ]
     },
     "execution_count": 37,
     "metadata": {},
     "output_type": "execute_result"
    }
   ],
   "source": [
    "train_df['Annual Income'].value_counts()"
   ]
  },
  {
   "cell_type": "code",
   "execution_count": 38,
   "metadata": {},
   "outputs": [],
   "source": [
    "train_df['Annual Income'].fillna(train_df['Annual Income'].median(), inplace=True)\n",
    "test_df['Annual Income'].fillna(test_df['Annual Income'].median(), inplace=True)"
   ]
  },
  {
   "cell_type": "markdown",
   "metadata": {},
   "source": [
    "**Years in current job**"
   ]
  },
  {
   "cell_type": "code",
   "execution_count": 39,
   "metadata": {},
   "outputs": [
    {
     "data": {
      "text/plain": [
       "10+ years    2332\n",
       "2 years       705\n",
       "3 years       620\n",
       "< 1 year      563\n",
       "5 years       516\n",
       "1 year        504\n",
       "4 years       469\n",
       "6 years       426\n",
       "7 years       396\n",
       "8 years       339\n",
       "9 years       259\n",
       "Name: Years in current job, dtype: int64"
      ]
     },
     "execution_count": 39,
     "metadata": {},
     "output_type": "execute_result"
    }
   ],
   "source": [
    "train_df['Years in current job'].value_counts()"
   ]
  },
  {
   "cell_type": "code",
   "execution_count": 40,
   "metadata": {},
   "outputs": [],
   "source": [
    "train_df['Years in current job'].fillna(train_df['Years in current job'].mode()[0], inplace=True)\n",
    "test_df['Years in current job'].fillna(test_df['Years in current job'].mode()[0], inplace=True)"
   ]
  },
  {
   "cell_type": "markdown",
   "metadata": {},
   "source": [
    "**Months since last delinquent**"
   ]
  },
  {
   "cell_type": "code",
   "execution_count": 41,
   "metadata": {},
   "outputs": [
    {
     "data": {
      "text/plain": [
       "14.00     76\n",
       "29.00     71\n",
       "8.00      68\n",
       "33.00     68\n",
       "13.00     65\n",
       "          ..\n",
       "86.00      1\n",
       "92.00      1\n",
       "118.00     1\n",
       "84.00      1\n",
       "91.00      1\n",
       "Name: Months since last delinquent, Length: 89, dtype: int64"
      ]
     },
     "execution_count": 41,
     "metadata": {},
     "output_type": "execute_result"
    }
   ],
   "source": [
    "train_df['Months since last delinquent'].value_counts()"
   ]
  },
  {
   "cell_type": "code",
   "execution_count": 42,
   "metadata": {},
   "outputs": [],
   "source": [
    "train_df['Months since last delinquent'].fillna(train_df['Months since last delinquent'].median(), inplace=True)\n",
    "test_df['Months since last delinquent'].fillna(test_df['Months since last delinquent'].median(), inplace=True)"
   ]
  },
  {
   "cell_type": "markdown",
   "metadata": {},
   "source": [
    "**Bankruptcies**"
   ]
  },
  {
   "cell_type": "code",
   "execution_count": 43,
   "metadata": {},
   "outputs": [
    {
     "data": {
      "text/plain": [
       "0.00    6660\n",
       "1.00     786\n",
       "2.00      31\n",
       "3.00       7\n",
       "4.00       2\n",
       "Name: Bankruptcies, dtype: int64"
      ]
     },
     "execution_count": 43,
     "metadata": {},
     "output_type": "execute_result"
    }
   ],
   "source": [
    "train_df['Bankruptcies'].value_counts()"
   ]
  },
  {
   "cell_type": "code",
   "execution_count": 44,
   "metadata": {},
   "outputs": [],
   "source": [
    "train_df['Bankruptcies'].fillna(train_df['Bankruptcies'].mode()[0], inplace=True)\n",
    "test_df['Bankruptcies'].fillna(test_df['Bankruptcies'].mode()[0], inplace=True)"
   ]
  },
  {
   "cell_type": "markdown",
   "metadata": {},
   "source": [
    "**Credit Score**"
   ]
  },
  {
   "cell_type": "code",
   "execution_count": 45,
   "metadata": {},
   "outputs": [
    {
     "data": {
      "text/plain": [
       "740.00     169\n",
       "747.00     168\n",
       "748.00     157\n",
       "745.00     152\n",
       "741.00     151\n",
       "          ... \n",
       "602.00       1\n",
       "616.00       1\n",
       "585.00       1\n",
       "620.00       1\n",
       "7010.00      1\n",
       "Name: Credit Score, Length: 268, dtype: int64"
      ]
     },
     "execution_count": 45,
     "metadata": {},
     "output_type": "execute_result"
    }
   ],
   "source": [
    "train_df['Credit Score'].value_counts()"
   ]
  },
  {
   "cell_type": "code",
   "execution_count": 46,
   "metadata": {},
   "outputs": [],
   "source": [
    "train_df['Credit Score'].fillna(train_df['Annual Income'].median(), inplace=True)\n",
    "test_df['Credit Score'].fillna(test_df['Annual Income'].median(), inplace=True)"
   ]
  },
  {
   "cell_type": "code",
   "execution_count": 47,
   "metadata": {},
   "outputs": [
    {
     "data": {
      "text/plain": [
       "Home Ownership                  0\n",
       "Annual Income                   0\n",
       "Years in current job            0\n",
       "Tax Liens                       0\n",
       "Number of Open Accounts         0\n",
       "Years of Credit History         0\n",
       "Maximum Open Credit             0\n",
       "Number of Credit Problems       0\n",
       "Months since last delinquent    0\n",
       "Bankruptcies                    0\n",
       "Purpose                         0\n",
       "Term                            0\n",
       "Current Loan Amount             0\n",
       "Current Credit Balance          0\n",
       "Monthly Debt                    0\n",
       "Credit Score                    0\n",
       "Credit Default                  0\n",
       "dtype: int64"
      ]
     },
     "execution_count": 47,
     "metadata": {},
     "output_type": "execute_result"
    }
   ],
   "source": [
    "train_df.isna().sum()"
   ]
  },
  {
   "cell_type": "markdown",
   "metadata": {},
   "source": [
    "### Обработка выбросов"
   ]
  },
  {
   "cell_type": "code",
   "execution_count": 48,
   "metadata": {},
   "outputs": [
    {
     "data": {
      "text/html": [
       "<div>\n",
       "<style scoped>\n",
       "    .dataframe tbody tr th:only-of-type {\n",
       "        vertical-align: middle;\n",
       "    }\n",
       "\n",
       "    .dataframe tbody tr th {\n",
       "        vertical-align: top;\n",
       "    }\n",
       "\n",
       "    .dataframe thead th {\n",
       "        text-align: right;\n",
       "    }\n",
       "</style>\n",
       "<table border=\"1\" class=\"dataframe\">\n",
       "  <thead>\n",
       "    <tr style=\"text-align: right;\">\n",
       "      <th></th>\n",
       "      <th>Annual Income</th>\n",
       "      <th>Tax Liens</th>\n",
       "      <th>Number of Open Accounts</th>\n",
       "      <th>Years of Credit History</th>\n",
       "      <th>Maximum Open Credit</th>\n",
       "      <th>Number of Credit Problems</th>\n",
       "      <th>Months since last delinquent</th>\n",
       "      <th>Bankruptcies</th>\n",
       "      <th>Current Loan Amount</th>\n",
       "      <th>Current Credit Balance</th>\n",
       "      <th>Monthly Debt</th>\n",
       "      <th>Credit Score</th>\n",
       "    </tr>\n",
       "  </thead>\n",
       "  <tbody>\n",
       "    <tr>\n",
       "      <th>count</th>\n",
       "      <td>7500.00</td>\n",
       "      <td>7500.00</td>\n",
       "      <td>7500.00</td>\n",
       "      <td>7500.00</td>\n",
       "      <td>7500.00</td>\n",
       "      <td>7500.00</td>\n",
       "      <td>7500.00</td>\n",
       "      <td>7500.00</td>\n",
       "      <td>7500.00</td>\n",
       "      <td>7500.00</td>\n",
       "      <td>7500.00</td>\n",
       "      <td>7500.00</td>\n",
       "    </tr>\n",
       "    <tr>\n",
       "      <th>mean</th>\n",
       "      <td>1325285.73</td>\n",
       "      <td>0.03</td>\n",
       "      <td>11.13</td>\n",
       "      <td>18.32</td>\n",
       "      <td>945153.73</td>\n",
       "      <td>0.17</td>\n",
       "      <td>33.23</td>\n",
       "      <td>0.12</td>\n",
       "      <td>11873177.45</td>\n",
       "      <td>289833.24</td>\n",
       "      <td>18314.45</td>\n",
       "      <td>243469.06</td>\n",
       "    </tr>\n",
       "    <tr>\n",
       "      <th>std</th>\n",
       "      <td>756755.14</td>\n",
       "      <td>0.27</td>\n",
       "      <td>4.91</td>\n",
       "      <td>7.04</td>\n",
       "      <td>16026216.67</td>\n",
       "      <td>0.50</td>\n",
       "      <td>14.70</td>\n",
       "      <td>0.35</td>\n",
       "      <td>31926122.97</td>\n",
       "      <td>317871.38</td>\n",
       "      <td>11926.76</td>\n",
       "      <td>473451.08</td>\n",
       "    </tr>\n",
       "    <tr>\n",
       "      <th>min</th>\n",
       "      <td>164597.00</td>\n",
       "      <td>0.00</td>\n",
       "      <td>2.00</td>\n",
       "      <td>4.00</td>\n",
       "      <td>0.00</td>\n",
       "      <td>0.00</td>\n",
       "      <td>0.00</td>\n",
       "      <td>0.00</td>\n",
       "      <td>11242.00</td>\n",
       "      <td>0.00</td>\n",
       "      <td>0.00</td>\n",
       "      <td>585.00</td>\n",
       "    </tr>\n",
       "    <tr>\n",
       "      <th>25%</th>\n",
       "      <td>931133.00</td>\n",
       "      <td>0.00</td>\n",
       "      <td>8.00</td>\n",
       "      <td>13.50</td>\n",
       "      <td>279229.50</td>\n",
       "      <td>0.00</td>\n",
       "      <td>32.00</td>\n",
       "      <td>0.00</td>\n",
       "      <td>180169.00</td>\n",
       "      <td>114256.50</td>\n",
       "      <td>10067.50</td>\n",
       "      <td>718.00</td>\n",
       "    </tr>\n",
       "    <tr>\n",
       "      <th>50%</th>\n",
       "      <td>1168386.00</td>\n",
       "      <td>0.00</td>\n",
       "      <td>10.00</td>\n",
       "      <td>17.00</td>\n",
       "      <td>478159.00</td>\n",
       "      <td>0.00</td>\n",
       "      <td>32.00</td>\n",
       "      <td>0.00</td>\n",
       "      <td>309573.00</td>\n",
       "      <td>209323.00</td>\n",
       "      <td>16076.50</td>\n",
       "      <td>738.00</td>\n",
       "    </tr>\n",
       "    <tr>\n",
       "      <th>75%</th>\n",
       "      <td>1499974.00</td>\n",
       "      <td>0.00</td>\n",
       "      <td>14.00</td>\n",
       "      <td>21.80</td>\n",
       "      <td>793501.50</td>\n",
       "      <td>0.00</td>\n",
       "      <td>32.00</td>\n",
       "      <td>0.00</td>\n",
       "      <td>519882.00</td>\n",
       "      <td>360406.25</td>\n",
       "      <td>23818.00</td>\n",
       "      <td>6930.00</td>\n",
       "    </tr>\n",
       "    <tr>\n",
       "      <th>max</th>\n",
       "      <td>10149344.00</td>\n",
       "      <td>7.00</td>\n",
       "      <td>43.00</td>\n",
       "      <td>57.70</td>\n",
       "      <td>1304726170.00</td>\n",
       "      <td>7.00</td>\n",
       "      <td>118.00</td>\n",
       "      <td>4.00</td>\n",
       "      <td>99999999.00</td>\n",
       "      <td>6506797.00</td>\n",
       "      <td>136679.00</td>\n",
       "      <td>1168386.00</td>\n",
       "    </tr>\n",
       "  </tbody>\n",
       "</table>\n",
       "</div>"
      ],
      "text/plain": [
       "       Annual Income  Tax Liens  Number of Open Accounts  \\\n",
       "count        7500.00    7500.00                  7500.00   \n",
       "mean      1325285.73       0.03                    11.13   \n",
       "std        756755.14       0.27                     4.91   \n",
       "min        164597.00       0.00                     2.00   \n",
       "25%        931133.00       0.00                     8.00   \n",
       "50%       1168386.00       0.00                    10.00   \n",
       "75%       1499974.00       0.00                    14.00   \n",
       "max      10149344.00       7.00                    43.00   \n",
       "\n",
       "       Years of Credit History  Maximum Open Credit  \\\n",
       "count                  7500.00              7500.00   \n",
       "mean                     18.32            945153.73   \n",
       "std                       7.04          16026216.67   \n",
       "min                       4.00                 0.00   \n",
       "25%                      13.50            279229.50   \n",
       "50%                      17.00            478159.00   \n",
       "75%                      21.80            793501.50   \n",
       "max                      57.70        1304726170.00   \n",
       "\n",
       "       Number of Credit Problems  Months since last delinquent  Bankruptcies  \\\n",
       "count                    7500.00                       7500.00       7500.00   \n",
       "mean                        0.17                         33.23          0.12   \n",
       "std                         0.50                         14.70          0.35   \n",
       "min                         0.00                          0.00          0.00   \n",
       "25%                         0.00                         32.00          0.00   \n",
       "50%                         0.00                         32.00          0.00   \n",
       "75%                         0.00                         32.00          0.00   \n",
       "max                         7.00                        118.00          4.00   \n",
       "\n",
       "       Current Loan Amount  Current Credit Balance  Monthly Debt  Credit Score  \n",
       "count              7500.00                 7500.00       7500.00       7500.00  \n",
       "mean           11873177.45               289833.24      18314.45     243469.06  \n",
       "std            31926122.97               317871.38      11926.76     473451.08  \n",
       "min               11242.00                    0.00          0.00        585.00  \n",
       "25%              180169.00               114256.50      10067.50        718.00  \n",
       "50%              309573.00               209323.00      16076.50        738.00  \n",
       "75%              519882.00               360406.25      23818.00       6930.00  \n",
       "max            99999999.00              6506797.00     136679.00    1168386.00  "
      ]
     },
     "execution_count": 48,
     "metadata": {},
     "output_type": "execute_result"
    }
   ],
   "source": [
    "train_df[feature_num_names].describe()"
   ]
  },
  {
   "cell_type": "code",
   "execution_count": 49,
   "metadata": {},
   "outputs": [
    {
     "data": {
      "text/plain": [
       "Annual Income                   5478\n",
       "Tax Liens                          8\n",
       "Number of Open Accounts           39\n",
       "Years of Credit History          408\n",
       "Maximum Open Credit             6963\n",
       "Number of Credit Problems          8\n",
       "Months since last delinquent      89\n",
       "Bankruptcies                       5\n",
       "Current Loan Amount             5386\n",
       "Current Credit Balance          6592\n",
       "Monthly Debt                    6716\n",
       "Credit Score                     269\n",
       "dtype: int64"
      ]
     },
     "execution_count": 49,
     "metadata": {},
     "output_type": "execute_result"
    }
   ],
   "source": [
    "train_df[feature_num_names].nunique()"
   ]
  },
  {
   "cell_type": "markdown",
   "metadata": {},
   "source": [
    "**Tax Liens**"
   ]
  },
  {
   "cell_type": "code",
   "execution_count": 50,
   "metadata": {},
   "outputs": [
    {
     "data": {
      "text/plain": [
       "0.00    7366\n",
       "1.00      83\n",
       "2.00      30\n",
       "3.00      10\n",
       "4.00       6\n",
       "5.00       2\n",
       "6.00       2\n",
       "7.00       1\n",
       "Name: Tax Liens, dtype: int64"
      ]
     },
     "execution_count": 50,
     "metadata": {},
     "output_type": "execute_result"
    }
   ],
   "source": [
    "train_df['Tax Liens'].value_counts()"
   ]
  },
  {
   "cell_type": "code",
   "execution_count": 51,
   "metadata": {},
   "outputs": [
    {
     "data": {
      "image/png": "[encoded data removed]",
      "text/plain": [
       "<Figure size 432x288 with 1 Axes>"
      ]
     },
     "metadata": {},
     "output_type": "display_data"
    }
   ],
   "source": [
    "plt.scatter(train_df['Tax Liens'], train_df['Credit Default']);"
   ]
  },
  {
   "cell_type": "code",
   "execution_count": 52,
   "metadata": {},
   "outputs": [],
   "source": [
    "train_df.loc[(train_df['Tax Liens'] > 3), 'Tax Liens'] = train_df['Tax Liens'].mode()[0]\n",
    "test_df.loc[(test_df['Tax Liens'] > 3), 'Tax Liens'] = test_df['Tax Liens'].mode()[0]"
   ]
  },
  {
   "cell_type": "code",
   "execution_count": 53,
   "metadata": {},
   "outputs": [
    {
     "data": {
      "text/plain": [
       "0.00    7377\n",
       "1.00      83\n",
       "2.00      30\n",
       "3.00      10\n",
       "Name: Tax Liens, dtype: int64"
      ]
     },
     "execution_count": 53,
     "metadata": {},
     "output_type": "execute_result"
    }
   ],
   "source": [
    "train_df['Tax Liens'].value_counts()"
   ]
  },
  {
   "cell_type": "markdown",
   "metadata": {},
   "source": [
    "**Number of Credit Problems**"
   ]
  },
  {
   "cell_type": "code",
   "execution_count": 54,
   "metadata": {},
   "outputs": [
    {
     "data": {
      "text/plain": [
       "0.00    6469\n",
       "1.00     882\n",
       "2.00      93\n",
       "3.00      35\n",
       "4.00       9\n",
       "5.00       7\n",
       "6.00       4\n",
       "7.00       1\n",
       "Name: Number of Credit Problems, dtype: int64"
      ]
     },
     "execution_count": 54,
     "metadata": {},
     "output_type": "execute_result"
    }
   ],
   "source": [
    "train_df['Number of Credit Problems'].value_counts()"
   ]
  },
  {
   "cell_type": "code",
   "execution_count": 55,
   "metadata": {},
   "outputs": [],
   "source": [
    "train_df.loc[(train_df['Number of Credit Problems'] > 3), 'Number of Credit Problems'] = \\\n",
    "train_df['Number of Credit Problems'].mode()[0]\n",
    "\n",
    "test_df.loc[(train_df['Number of Credit Problems'] > 3), 'Number of Credit Problems'] = \\\n",
    "test_df['Number of Credit Problems'].mode()[0]"
   ]
  },
  {
   "cell_type": "markdown",
   "metadata": {},
   "source": [
    "**Bankruptcies**"
   ]
  },
  {
   "cell_type": "code",
   "execution_count": 56,
   "metadata": {},
   "outputs": [
    {
     "data": {
      "text/plain": [
       "0.00    6674\n",
       "1.00     786\n",
       "2.00      31\n",
       "3.00       7\n",
       "4.00       2\n",
       "Name: Bankruptcies, dtype: int64"
      ]
     },
     "execution_count": 56,
     "metadata": {},
     "output_type": "execute_result"
    }
   ],
   "source": [
    "train_df['Bankruptcies'].value_counts()"
   ]
  },
  {
   "cell_type": "code",
   "execution_count": 57,
   "metadata": {},
   "outputs": [],
   "source": [
    "train_df.loc[(train_df['Bankruptcies'] > 3), 'Bankruptcies'] = train_df['Bankruptcies'].mode()[0]\n",
    "test_df.loc[(test_df['Bankruptcies'] > 3), 'Bankruptcies'] = test_df['Bankruptcies'].mode()[0]"
   ]
  },
  {
   "cell_type": "markdown",
   "metadata": {},
   "source": [
    "### Построение новых признаков"
   ]
  },
  {
   "cell_type": "markdown",
   "metadata": {},
   "source": [
    "**Преобразуем категориальные признаки в бинарные**"
   ]
  },
  {
   "cell_type": "code",
   "execution_count": 58,
   "metadata": {},
   "outputs": [],
   "source": [
    "for cat_colname in train_df.select_dtypes(include='object').columns[1:]:\n",
    "    train_df = pd.concat([train_df, pd.get_dummies(train_df[cat_colname], prefix=cat_colname)], axis=1)\n",
    "    \n",
    "for cat_colname in test_df.select_dtypes(include='object').columns[1:]:\n",
    "    test_df = pd.concat([test_df, pd.get_dummies(test_df[cat_colname], prefix=cat_colname)], axis=1)    "
   ]
  },
  {
   "cell_type": "markdown",
   "metadata": {},
   "source": [
    "**Month Income**"
   ]
  },
  {
   "cell_type": "code",
   "execution_count": 59,
   "metadata": {},
   "outputs": [],
   "source": [
    "train_df['Month Income'] = train_df['Annual Income'].apply(lambda x: x / 12)\n",
    "test_df['Month Income'] = test_df['Annual Income'].apply(lambda x: x / 12)"
   ]
  },
  {
   "cell_type": "markdown",
   "metadata": {},
   "source": [
    "**Available funds**"
   ]
  },
  {
   "cell_type": "code",
   "execution_count": 60,
   "metadata": {},
   "outputs": [],
   "source": [
    "train_df['Available funds'] = train_df['Month Income'] - train_df['Monthly Debt']\n",
    "test_df['Available funds'] = test_df['Month Income'] - test_df['Monthly Debt']"
   ]
  },
  {
   "cell_type": "markdown",
   "metadata": {},
   "source": [
    "### Отбор данных"
   ]
  },
  {
   "cell_type": "markdown",
   "metadata": {},
   "source": [
    "**Базовые и новые признаки**"
   ]
  },
  {
   "cell_type": "code",
   "execution_count": 61,
   "metadata": {},
   "outputs": [
    {
     "data": {
      "text/plain": [
       "['Home Ownership',\n",
       " 'Annual Income',\n",
       " 'Years in current job',\n",
       " 'Tax Liens',\n",
       " 'Number of Open Accounts',\n",
       " 'Years of Credit History',\n",
       " 'Maximum Open Credit',\n",
       " 'Number of Credit Problems',\n",
       " 'Months since last delinquent',\n",
       " 'Bankruptcies',\n",
       " 'Purpose',\n",
       " 'Term',\n",
       " 'Current Loan Amount',\n",
       " 'Current Credit Balance',\n",
       " 'Monthly Debt',\n",
       " 'Credit Score']"
      ]
     },
     "execution_count": 61,
     "metadata": {},
     "output_type": "execute_result"
    }
   ],
   "source": [
    "base_feature_names"
   ]
  },
  {
   "cell_type": "code",
   "execution_count": 62,
   "metadata": {},
   "outputs": [
    {
     "data": {
      "text/plain": [
       "['Years in current job_1 year',\n",
       " 'Years in current job_10+ years',\n",
       " 'Years in current job_2 years',\n",
       " 'Years in current job_3 years',\n",
       " 'Years in current job_4 years',\n",
       " 'Years in current job_5 years',\n",
       " 'Years in current job_6 years',\n",
       " 'Years in current job_7 years',\n",
       " 'Years in current job_8 years',\n",
       " 'Years in current job_9 years',\n",
       " 'Years in current job_< 1 year',\n",
       " 'Purpose_business loan',\n",
       " 'Purpose_buy a car',\n",
       " 'Purpose_buy house',\n",
       " 'Purpose_debt consolidation',\n",
       " 'Purpose_home improvements',\n",
       " 'Purpose_major purchase',\n",
       " 'Purpose_medical bills',\n",
       " 'Purpose_other',\n",
       " 'Purpose_small business',\n",
       " 'Purpose_take a trip',\n",
       " 'Purpose_wedding',\n",
       " 'Term_0.0',\n",
       " 'Term_nan',\n",
       " 'Month Income',\n",
       " 'Available funds']"
      ]
     },
     "execution_count": 62,
     "metadata": {},
     "output_type": "execute_result"
    }
   ],
   "source": [
    "new_feature_names = train_df.columns.drop([target_name] + base_feature_names).tolist()\n",
    "new_feature_names"
   ]
  },
  {
   "cell_type": "markdown",
   "metadata": {},
   "source": [
    "**Корреляция новых признаков в разрезе целевой переменной**"
   ]
  },
  {
   "cell_type": "code",
   "execution_count": 63,
   "metadata": {},
   "outputs": [
    {
     "data": {
      "image/png": "[encoded data removed]",
      "text/plain": [
       "<Figure size 720x576 with 1 Axes>"
      ]
     },
     "metadata": {},
     "output_type": "display_data"
    }
   ],
   "source": [
    "corr_with_target = train_df[new_feature_names + [target_name]].corr().iloc[:-1, -1].sort_values(ascending=False)\n",
    "\n",
    "plt.figure(figsize=(10, 8))\n",
    "\n",
    "sns.barplot(x=corr_with_target.values, y=corr_with_target.index)\n",
    "\n",
    "plt.title('Correlation with target variable')\n",
    "plt.show()"
   ]
  },
  {
   "cell_type": "markdown",
   "metadata": {},
   "source": [
    "### Отбор признаков"
   ]
  },
  {
   "cell_type": "code",
   "execution_count": 64,
   "metadata": {},
   "outputs": [],
   "source": [
    "num_feature_names = []\n",
    "['Annual Income','Number of Open Accounts','Years of Credit History','Maximum Open Credit','Number of Credit Problems',\n",
    " 'Months since last delinquent','Bankruptcies','Current Loan Amount','Current Credit Balance','Monthly Debt','Credit Score']\n",
    "\n",
    "cat_feature_names = ['Home Ownership', 'Years in current job','Purpose', 'Term']\n",
    "\n",
    "selected_feature_names = num_feature_names + new_feature_names"
   ]
  },
  {
   "cell_type": "markdown",
   "metadata": {},
   "source": [
    "**Функции**"
   ]
  },
  {
   "cell_type": "code",
   "execution_count": 65,
   "metadata": {},
   "outputs": [],
   "source": [
    "def get_classification_report(y_train_true, y_train_pred, y_test_true, y_test_pred):\n",
    "    print('TRAIN\\n\\n' + classification_report(y_train_true, y_train_pred))\n",
    "    print('TEST\\n\\n' + classification_report(y_test_true, y_test_pred))\n",
    "    print('CONFUSION MATRIX\\n')\n",
    "    print(pd.crosstab(y_test_true, y_test_pred))"
   ]
  },
  {
   "cell_type": "code",
   "execution_count": 66,
   "metadata": {},
   "outputs": [],
   "source": [
    "def balance_df_by_target(df, target_name):\n",
    "\n",
    "    target_counts = df[target_name].value_counts()\n",
    "\n",
    "    major_class_name = target_counts.argmax()\n",
    "    minor_class_name = target_counts.argmin()\n",
    "\n",
    "    disbalance_coeff = int(target_counts[major_class_name] / target_counts[minor_class_name]) - 1\n",
    "\n",
    "    for i in range(disbalance_coeff):\n",
    "        sample = df[df[target_name] == minor_class_name].sample(target_counts[minor_class_name])\n",
    "        df = df.append(sample, ignore_index=True)\n",
    "\n",
    "    return df.sample(frac=1) "
   ]
  },
  {
   "cell_type": "markdown",
   "metadata": {},
   "source": [
    "### Разбиение на train и test"
   ]
  },
  {
   "cell_type": "code",
   "execution_count": 67,
   "metadata": {},
   "outputs": [],
   "source": [
    "X = train_df[selected_feature_names]\n",
    "y = train_df[target_name]\n",
    "\n",
    "X_train, X_test, y_train, y_test = train_test_split(X, y, shuffle=True, test_size=0.30, random_state=21)"
   ]
  },
  {
   "cell_type": "markdown",
   "metadata": {},
   "source": [
    "### Балансировка целевой переменной"
   ]
  },
  {
   "cell_type": "code",
   "execution_count": 68,
   "metadata": {},
   "outputs": [
    {
     "data": {
      "text/plain": [
       "0    3771\n",
       "1    2958\n",
       "Name: Credit Default, dtype: int64"
      ]
     },
     "execution_count": 68,
     "metadata": {},
     "output_type": "execute_result"
    }
   ],
   "source": [
    "df_for_balancing = pd.concat([X_train, y_train], axis=1)\n",
    "df_balanced = balance_df_by_target(df_for_balancing, target_name)\n",
    "    \n",
    "df_balanced[target_name].value_counts()"
   ]
  },
  {
   "cell_type": "code",
   "execution_count": 69,
   "metadata": {},
   "outputs": [],
   "source": [
    "X_train = df_balanced.drop(columns=target_name)\n",
    "y_train = df_balanced[target_name]"
   ]
  },
  {
   "cell_type": "markdown",
   "metadata": {},
   "source": [
    "### Сохранение обучающего и тестового датасетов"
   ]
  },
  {
   "cell_type": "code",
   "execution_count": 70,
   "metadata": {},
   "outputs": [],
   "source": [
    "train = pd.concat([X_train, y_train], axis=1)\n",
    "test = pd.concat([X_test, y_test], axis=1)"
   ]
  },
  {
   "cell_type": "code",
   "execution_count": 71,
   "metadata": {},
   "outputs": [],
   "source": [
    "#train_df.to_csv(TRAIN_FULL_PATH, index=False, encoding='utf-8')\n",
    "#train.to_csv(TRAIN_PART_PATH, index=False, encoding='utf-8')\n",
    "#test.to_csv(TEST_PART_PATH, index=False, encoding='utf-8')"
   ]
  },
  {
   "cell_type": "markdown",
   "metadata": {},
   "source": [
    "### Построение и оценка модели"
   ]
  },
  {
   "cell_type": "markdown",
   "metadata": {},
   "source": [
    "### K ближайших соседей"
   ]
  },
  {
   "cell_type": "code",
   "execution_count": 72,
   "metadata": {},
   "outputs": [
    {
     "name": "stdout",
     "output_type": "stream",
     "text": [
      "TRAIN\n",
      "\n",
      "              precision    recall  f1-score   support\n",
      "\n",
      "           0       0.75      0.80      0.77      3771\n",
      "           1       0.72      0.65      0.68      2958\n",
      "\n",
      "    accuracy                           0.73      6729\n",
      "   macro avg       0.73      0.72      0.73      6729\n",
      "weighted avg       0.73      0.73      0.73      6729\n",
      "\n",
      "TEST\n",
      "\n",
      "              precision    recall  f1-score   support\n",
      "\n",
      "           0       0.73      0.69      0.71      1616\n",
      "           1       0.30      0.34      0.32       634\n",
      "\n",
      "    accuracy                           0.59      2250\n",
      "   macro avg       0.52      0.52      0.52      2250\n",
      "weighted avg       0.61      0.59      0.60      2250\n",
      "\n",
      "CONFUSION MATRIX\n",
      "\n",
      "col_0              0    1\n",
      "Credit Default           \n",
      "0               1116  500\n",
      "1                416  218\n"
     ]
    }
   ],
   "source": [
    "model_knn = KNeighborsClassifier()\n",
    "model_knn.fit(X_train, y_train)\n",
    "\n",
    "y_train_pred = model_knn.predict(X_train)\n",
    "y_test_pred = model_knn.predict(X_test)\n",
    "\n",
    "get_classification_report(y_train, y_train_pred, y_test, y_test_pred)"
   ]
  },
  {
   "cell_type": "markdown",
   "metadata": {},
   "source": [
    "**Обучение и оценка финальной модели**"
   ]
  },
  {
   "cell_type": "code",
   "execution_count": 73,
   "metadata": {},
   "outputs": [
    {
     "name": "stdout",
     "output_type": "stream",
     "text": [
      "TRAIN\n",
      "\n",
      "              precision    recall  f1-score   support\n",
      "\n",
      "           0       0.75      0.80      0.77      3771\n",
      "           1       0.72      0.65      0.68      2958\n",
      "\n",
      "    accuracy                           0.73      6729\n",
      "   macro avg       0.73      0.72      0.73      6729\n",
      "weighted avg       0.73      0.73      0.73      6729\n",
      "\n",
      "TEST\n",
      "\n",
      "              precision    recall  f1-score   support\n",
      "\n",
      "           0       0.73      0.69      0.71      1616\n",
      "           1       0.30      0.34      0.32       634\n",
      "\n",
      "    accuracy                           0.59      2250\n",
      "   macro avg       0.52      0.52      0.52      2250\n",
      "weighted avg       0.61      0.59      0.60      2250\n",
      "\n",
      "CONFUSION MATRIX\n",
      "\n",
      "col_0              0    1\n",
      "Credit Default           \n",
      "0               1116  500\n",
      "1                416  218\n",
      "CPU times: user 323 ms, sys: 3.64 ms, total: 327 ms\n",
      "Wall time: 325 ms\n"
     ]
    }
   ],
   "source": [
    "%%time\n",
    "\n",
    "final_model = model_knn\n",
    "\n",
    "final_model.fit(X_train, y_train)\n",
    "\n",
    "y_train_pred = final_model.predict(X_train)\n",
    "y_test_pred = final_model.predict(X_test)\n",
    "\n",
    "get_classification_report(y_train, y_train_pred, y_test, y_test_pred)"
   ]
  },
  {
   "cell_type": "code",
   "execution_count": 74,
   "metadata": {},
   "outputs": [
    {
     "data": {
      "text/html": [
       "<div>\n",
       "<style scoped>\n",
       "    .dataframe tbody tr th:only-of-type {\n",
       "        vertical-align: middle;\n",
       "    }\n",
       "\n",
       "    .dataframe tbody tr th {\n",
       "        vertical-align: top;\n",
       "    }\n",
       "\n",
       "    .dataframe thead th {\n",
       "        text-align: right;\n",
       "    }\n",
       "</style>\n",
       "<table border=\"1\" class=\"dataframe\">\n",
       "  <thead>\n",
       "    <tr style=\"text-align: right;\">\n",
       "      <th></th>\n",
       "      <th>Id</th>\n",
       "      <th>Credit Default</th>\n",
       "    </tr>\n",
       "  </thead>\n",
       "  <tbody>\n",
       "    <tr>\n",
       "      <th>0</th>\n",
       "      <td>6079</td>\n",
       "      <td>1</td>\n",
       "    </tr>\n",
       "    <tr>\n",
       "      <th>1</th>\n",
       "      <td>6322</td>\n",
       "      <td>0</td>\n",
       "    </tr>\n",
       "    <tr>\n",
       "      <th>2</th>\n",
       "      <td>5231</td>\n",
       "      <td>0</td>\n",
       "    </tr>\n",
       "    <tr>\n",
       "      <th>3</th>\n",
       "      <td>5360</td>\n",
       "      <td>1</td>\n",
       "    </tr>\n",
       "    <tr>\n",
       "      <th>4</th>\n",
       "      <td>3518</td>\n",
       "      <td>1</td>\n",
       "    </tr>\n",
       "  </tbody>\n",
       "</table>\n",
       "</div>"
      ],
      "text/plain": [
       "     Id  Credit Default\n",
       "0  6079               1\n",
       "1  6322               0\n",
       "2  5231               0\n",
       "3  5360               1\n",
       "4  3518               1"
      ]
     },
     "execution_count": 74,
     "metadata": {},
     "output_type": "execute_result"
    }
   ],
   "source": [
    "preds = pd.DataFrame()\n",
    "preds['Id'] = X_test.index\n",
    "preds['Credit Default'] = y_test_pred\n",
    "preds.head()"
   ]
  },
  {
   "cell_type": "code",
   "execution_count": 75,
   "metadata": {},
   "outputs": [],
   "source": [
    "preds.to_csv('Christina.Yarochkina_predictions.csv', encoding='utf-8',index=False)"
   ]
  },
  {
   "cell_type": "code",
   "execution_count": null,
   "metadata": {},
   "outputs": [],
   "source": []
  }
 ],
 "metadata": {
  "kernelspec": {
   "display_name": "Python 3",
   "language": "python",
   "name": "python3"
  },
  "language_info": {
   "codemirror_mode": {
    "name": "ipython",
    "version": 3
   },
   "file_extension": ".py",
   "mimetype": "text/x-python",
   "name": "python",
   "nbconvert_exporter": "python",
   "pygments_lexer": "ipython3",
   "version": "3.7.9"
  }
 },
 "nbformat": 4,
 "nbformat_minor": 4
}
